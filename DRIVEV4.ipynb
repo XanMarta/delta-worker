{
  "nbformat": 4,
  "nbformat_minor": 0,
  "metadata": {
    "colab": {
      "name": "DRIVEV4.ipynb",
      "provenance": [],
      "collapsed_sections": []
    },
    "kernelspec": {
      "name": "python3",
      "display_name": "Python 3"
    },
    "language_info": {
      "name": "python"
    }
  },
  "cells": [
    {
      "cell_type": "code",
      "metadata": {
        "id": "0tlOFjI8-Ggu"
      },
      "source": [
        "import os\n",
        "\n",
        "\n",
        "class Drivev4(Megadrive):\n",
        "    def set(self):\n",
        "        self.files = ['list.txt', 'path.txt', 'rclone.conf']\n",
        "\n",
        "    def init(self):\n",
        "        content = self.read_file('path.txt')\n",
        "        if len(content) < 2:\n",
        "            self.endmsg = 'Args corrupted'\n",
        "            return False\n",
        "        self.from_path = content[0]\n",
        "        self.to_path = content[1]\n",
        "        if not os.path.isfile('/usr/bin/rclone'):\n",
        "            print('----- Installing rclone -----')\n",
        "            !curl https://rclone.org/install.sh | sudo bash\n",
        "        return True\n",
        "    \n",
        "    def check_phase(self):\n",
        "        get_ipython().system_raw(f\"rclone --config=/content/rclone.conf lsf 'FROM:{self.from_path}' --files-only -R | sort > src\")\n",
        "        get_ipython().system_raw(f\"rclone --config=/content/rclone.conf lsf 'TO:{self.to_path}' --files-only -R | sort > dst\")\n",
        "        get_ipython().system_raw(f\"comm -23 src dst > lst\")\n",
        "        get_ipython().system_raw(\"wc -l < src > line_src\")\n",
        "        get_ipython().system_raw(\"wc -l < lst > line_lst\")\n",
        "        with open('line_src', 'r') as f:\n",
        "            total_file = int(f.read())\n",
        "        with open('line_lst', 'r') as f:\n",
        "            self.file_total = int(f.read())\n",
        "        self.file_completed = total_file - self.file_total\n",
        "        print(f'Checking done. {self.file_completed} files completed. {self.file_total} files on queue.')\n",
        "        self.log('INFO', f'{self.file_completed} files completed. {self.file_total} files on queue.')\n",
        "    \n",
        "    def transfer_phase(self):\n",
        "        get_ipython().system_raw(f\"rclone --config=/content/rclone.conf copy 'FROM:{self.from_path}' 'TO:{self.to_path}' --files-from lst --no-check-certificate --drive-acknowledge-abuse -v\")\n"
      ],
      "execution_count": null,
      "outputs": []
    }
  ]
}