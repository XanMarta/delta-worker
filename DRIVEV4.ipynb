{
  "nbformat": 4,
  "nbformat_minor": 0,
  "metadata": {
    "colab": {
      "name": "DRIVEV4.ipynb",
      "provenance": [],
      "collapsed_sections": []
    },
    "kernelspec": {
      "name": "python3",
      "display_name": "Python 3"
    },
    "language_info": {
      "name": "python"
    }
  },
  "cells": [
    {
      "cell_type": "code",
      "metadata": {
        "id": "0tlOFjI8-Ggu"
      },
      "source": [
        "import os, random\n",
        "\n",
        "\n",
        "class Drivev4(Megadrive):\n",
        "    def set(self):\n",
        "        self.files = ['list.txt', 'path.txt', 'rclone.conf']\n",
        "\n",
        "    def init(self):\n",
        "        content = self.read_file('path.txt')\n",
        "        if len(content) < 2:\n",
        "            self.endmsg = 'Args corrupted'\n",
        "            return False\n",
        "        self.from_path = content[0]\n",
        "        self.to_path = content[1]\n",
        "        if not os.path.isfile('/usr/bin/rclone'):\n",
        "            print('----- Installing rclone -----')\n",
        "            !curl https://rclone.org/install.sh | sudo bash\n",
        "        return True\n",
        "    \n",
        "    def check_phase(self):\n",
        "        if random.randrange(0, 100) <= 20:\n",
        "            get_ipython().system_raw(f\"rclone --config=/content/rclone.conf lsf 'TO:{self.to_path}' --files-only -R --files-from /content/list.txt > file_completed\")\n",
        "            get_ipython().system_raw(f\"comm -23 /content/list.txt file_completed --nocheck-order > file_onqueue\")\n",
        "            get_ipython().system_raw(\"wc -l < file_completed > line_completed\")\n",
        "            get_ipython().system_raw(\"wc -l < file_onqueue > line_onqueue\")\n",
        "            with open('line_completed', 'r') as f:\n",
        "                self.file_completed = int(f.read())\n",
        "            with open('line_onqueue', 'r') as f:\n",
        "                self.file_total = int(f.read())\n",
        "            self.log('INFO', f'{self.file_completed} files completed. {self.file_total} files on queue.')\n",
        "            self.endmsg = f'Completed. {self.file_total} files transfered. {self.file_completed} files completed'\n",
        "        else:\n",
        "            get_ipython().system_raw('cp /content/list.txt file_onqueue')\n",
        "            get_ipython().system_raw(\"wc -l < file_onqueue > line_onqueue\")\n",
        "            with open('line_onqueue', 'r') as f:\n",
        "                self.file_total = int(f.read())\n",
        "            self.log('INFO', f'Skip checking. {self.file_total} files on queue.')\n",
        "            self.endmsg = f'{self.file_total} files transferred (no checking).'\n",
        "    \n",
        "    def transfer_phase(self):\n",
        "        args = '--transfers=2' if self.file_total < 50 else ''\n",
        "        get_ipython().system_raw(f\"rclone --config=/content/rclone.conf copy 'FROM:{self.from_path}' 'TO:{self.to_path}' --files-from file_onqueue {args} --no-check-certificate --drive-acknowledge-abuse -v\")\n"
      ],
      "execution_count": null,
      "outputs": []
    }
  ]
}