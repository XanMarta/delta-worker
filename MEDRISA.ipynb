{
  "nbformat": 4,
  "nbformat_minor": 0,
  "metadata": {
    "colab": {
      "name": "MEDRISA.ipynb",
      "provenance": [],
      "collapsed_sections": []
    },
    "kernelspec": {
      "name": "python3",
      "display_name": "Python 3"
    },
    "language_info": {
      "name": "python"
    }
  },
  "cells": [
    {
      "cell_type": "code",
      "metadata": {
        "id": "aFm8AhZ2A6yY"
      },
      "source": [
        "\n",
        "from google.colab import output\n",
        "import multiprocessing, os\n",
        "\n",
        "\n",
        "class MedriSA(BaseWorker):\n",
        "    def __init__(self, name, state):\n",
        "        super().__init__(name, state)\n",
        "        self.files = ['path.txt']\n",
        "    \n",
        "    def working(self):\n",
        "        # Init\n",
        "        if not os.path.isfile('/usr/bin/rclone'):\n",
        "            print('----- Installing rclone -----')\n",
        "            !curl https://rclone.org/install.sh | sudo bash\n",
        "            output.clear()\n",
        "        # Get paras\n",
        "        content = self.read_file('path.txt')\n",
        "        if len(content) < 4:\n",
        "            print('PARA corrupted')\n",
        "            self.endmsg = '[MedriSA] Invalid parameters'\n",
        "            self.success = False\n",
        "            return\n",
        "        else:\n",
        "            self.from_path = content[0]\n",
        "            self.to_path = content[1]\n",
        "            self.sa_start = int(content[2])\n",
        "            self.sa_end = int(content[3])\n",
        "        # download files\n",
        "        sa_list = []\n",
        "        raw_list = range(self.sa_start, self.sa_end + 1)\n",
        "        for count in raw_list:\n",
        "            if self.download_file(f'{count}.conf') and self.download_file(f'{count}.txt'):\n",
        "                sa_list.append(count)\n",
        "        print(f'Downloading completed. {len(sa_list)}/{len(raw_list)} SAs loaded.')\n",
        "        # starting\n",
        "        print('----- START -----')\n",
        "        p = multiprocessing.Pool(len(sa_list))\n",
        "        p.map(self.start_sa, sa_list)\n",
        "        p.close()\n",
        "        p.join()\n",
        "        # completed\n",
        "        print('----- DONE -----')\n",
        "        self.endmsg = f'{len(sa_list)}/{len(raw_list)} SAs completed.'\n",
        "\n",
        "    \n",
        "    def start_sa(self, count):\n",
        "        print(f'Starting SA {count} ...')\n",
        "        get_ipython().system_raw(f\"rclone --config=/content/{count}.conf copy 'FROM:{self.from_path}' 'TO:{self.to_path}' --files-from {count}.txt --no-check-certificate --drive-acknowledge-abuse --drive-server-side-across-configs -v\")\n",
        "        print(f'SA {count} completed')\n",
        "            \n"
      ],
      "execution_count": null,
      "outputs": []
    }
  ]
}