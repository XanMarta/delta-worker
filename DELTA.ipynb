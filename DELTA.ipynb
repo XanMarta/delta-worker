{
  "nbformat": 4,
  "nbformat_minor": 0,
  "metadata": {
    "colab": {
      "name": "DELTA.ipynb",
      "provenance": [],
      "collapsed_sections": []
    },
    "kernelspec": {
      "name": "python3",
      "display_name": "Python 3"
    }
  },
  "cells": [
    {
      "cell_type": "code",
      "metadata": {
        "id": "8rvOYnQWbcb8"
      },
      "source": [
        "from google.colab import output\r\n",
        "import os\r\n",
        "\r\n",
        "\r\n",
        "class DeltaWorker(BaseWorker):\r\n",
        "    def __init__(self, name, state):\r\n",
        "        super().__init__(name, state)\r\n",
        "        self.files = ['rclone.conf', 'path.txt']\r\n",
        "    \r\n",
        "    def working(self):\r\n",
        "        if not os.path.isfile('/usr/bin/rclone'):\r\n",
        "            print('----- Installing rclone -----')\r\n",
        "            !curl https://rclone.org/install.sh | sudo bash\r\n",
        "            output.clear()\r\n",
        "        with open('/content/path.txt', 'r') as f:\r\n",
        "            content = f.read().split('\\n')\r\n",
        "            if len(content) < 3:\r\n",
        "                self.success = False\r\n",
        "                return\r\n",
        "            os.environ['fromC'] = content[0]\r\n",
        "            os.environ['toC'] = content[1]\r\n",
        "            os.environ['argC'] = content[2]\r\n",
        "            print('----- DELTA -----')\r\n",
        "            print('FROM: ', content[0])\r\n",
        "            print('TO:   ', content[1])\r\n",
        "            print('ARG: ', content[2])\r\n",
        "            print('----- Working -----')\r\n",
        "            !rclone sync --config=/content/rclone.conf \"$fromC\" \"$toC\" $argC -v --drive-acknowledge-abuse"
      ],
      "execution_count": null,
      "outputs": []
    }
  ]
}