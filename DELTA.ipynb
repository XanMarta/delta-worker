{
  "nbformat": 4,
  "nbformat_minor": 0,
  "metadata": {
    "colab": {
      "name": "DELTA.ipynb",
      "provenance": [],
      "collapsed_sections": []
    },
    "kernelspec": {
      "name": "python3",
      "display_name": "Python 3"
    }
  },
  "cells": [
    {
      "cell_type": "code",
      "metadata": {
        "id": "jc-SdeA5EzU9"
      },
      "source": [
        "from google.colab import output\r\n",
        "import os\r\n",
        "\r\n",
        "\r\n",
        "def delta(PARA):\r\n",
        "    if not os.path.isfile('/usr/bin/rclone'):\r\n",
        "        print('----- Installing rclone -----')\r\n",
        "        !curl https://rclone.org/install.sh | sudo bash\r\n",
        "    output.clear()\r\n",
        "    if len(PARA) < 3:\r\n",
        "        print('Para corrupted')\r\n",
        "        return\r\n",
        "    os.environ['fromC'] = PARA[0]\r\n",
        "    os.environ['toC'] = PARA[1]\r\n",
        "    os.environ['argC'] = PARA[2]\r\n",
        "    print('FROM: ', PARA[0])\r\n",
        "    print('TO:   ', PARA[1])\r\n",
        "    print('ARG: ', PARA[2])\r\n",
        "    print('----- Syncing -----')\r\n",
        "    !rclone sync --config=/content/rclone.conf \"$fromC\" \"$toC\" $argC -v --drive-acknowledge-abuse"
      ],
      "execution_count": null,
      "outputs": []
    }
  ]
}