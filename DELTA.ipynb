{
  "nbformat": 4,
  "nbformat_minor": 0,
  "metadata": {
    "colab": {
      "name": "DELTA.ipynb",
      "provenance": [],
      "collapsed_sections": []
    },
    "kernelspec": {
      "name": "python3",
      "display_name": "Python 3"
    }
  },
  "cells": [
    {
      "cell_type": "code",
      "metadata": {
        "id": "8rvOYnQWbcb8"
      },
      "source": [
        "from google.colab import output\n",
        "import os\n",
        "\n",
        "\n",
        "class DeltaWorker(BaseWorker):\n",
        "    def __init__(self, name, state):\n",
        "        super().__init__(name, state)\n",
        "        self.files = ['rclone.conf', 'path.txt']\n",
        "    \n",
        "    def working(self):\n",
        "        if not os.path.isfile('/usr/bin/rclone'):\n",
        "            print('----- Installing rclone -----')\n",
        "            !curl https://rclone.org/install.sh | sudo bash\n",
        "            output.clear()\n",
        "        with open('/content/path.txt', 'r') as f:\n",
        "            content = f.read().split('\\n')\n",
        "            if len(content) < 3:\n",
        "                self.success = False\n",
        "                return\n",
        "            os.environ['fromC'] = content[0]\n",
        "            os.environ['toC'] = content[1]\n",
        "            os.environ['argC'] = content[2]\n",
        "            print('----- DELTA -----')\n",
        "            print('FROM: ', content[0])\n",
        "            print('TO:   ', content[1])\n",
        "            print('ARG: ', content[2])\n",
        "            print('----- Working -----')\n",
        "            !rclone sync --config=/content/rclone.conf \"$fromC\" \"$toC\" $argC -v --drive-acknowledge-abuse"
      ],
      "execution_count": null,
      "outputs": []
    }
  ]
}