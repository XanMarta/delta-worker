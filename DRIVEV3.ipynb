{
  "nbformat": 4,
  "nbformat_minor": 0,
  "metadata": {
    "colab": {
      "name": "DRIVEV3.ipynb",
      "provenance": [],
      "collapsed_sections": []
    },
    "kernelspec": {
      "name": "python3",
      "display_name": "Python 3"
    },
    "language_info": {
      "name": "python"
    }
  },
  "cells": [
    {
      "cell_type": "code",
      "metadata": {
        "id": "1LwrsaxSxFy-"
      },
      "source": [
        "import os\n",
        "\n",
        "\n",
        "class Drivev3(Megadrive):\n",
        "    def set(self):\n",
        "        self.automount = True\n",
        "        self.files = ['list.txt', 'path.txt', 'rclone.conf']\n",
        "\n",
        "    def init(self):\n",
        "        content = self.read_file('path.txt')\n",
        "        if len(content) < 2:\n",
        "            self.endmsg = 'Args corrupted'\n",
        "            return False\n",
        "        self.from_path = content[0]\n",
        "        self.to_path = content[1]\n",
        "        if not os.path.isfile('/usr/bin/rclone'):\n",
        "            print('----- Installing rclone -----')\n",
        "            !curl https://rclone.org/install.sh | sudo bash\n",
        "        return True\n",
        "\n",
        "    def check(self, path):\n",
        "        result_folder, result_file = self.get_result_path(path, self.from_path, self.to_path)\n",
        "        return os.path.isfile(result_file)\n",
        "\n",
        "    def transfer(self, path):\n",
        "        result_folder, result_file = self.get_result_path(path, self.from_path, self.to_path)\n",
        "        get_ipython().system_raw(f'rclone --config=/content/rclone.conf sync \"FROM:{self.from_path}\" \"{self.to_path}\" --no-check-certificate --drive-acknowledge-abuse')\n"
      ],
      "execution_count": null,
      "outputs": []
    }
  ]
}