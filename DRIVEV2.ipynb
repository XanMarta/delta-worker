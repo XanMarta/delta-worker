{
  "nbformat": 4,
  "nbformat_minor": 0,
  "metadata": {
    "colab": {
      "name": "DRIVEV2.ipynb",
      "provenance": [],
      "collapsed_sections": []
    },
    "kernelspec": {
      "name": "python3",
      "display_name": "Python 3"
    },
    "language_info": {
      "name": "python"
    }
  },
  "cells": [
    {
      "cell_type": "code",
      "metadata": {
        "id": "oGkJf_x6juKQ"
      },
      "source": [
        "import os\n",
        "\n",
        "\n",
        "class Drivev2(Megadrive):\n",
        "    def __init__(self, name, state):\n",
        "        super().__init__(name, state)\n",
        "        self.automount = True\n",
        "        self.files = ['list.txt', 'path.txt']\n",
        "    \n",
        "    def init(self):\n",
        "        with open('/content/path.txt', 'r') as f:\n",
        "            content = f.read().split('\\n')\n",
        "        if len(content) < 2:\n",
        "            self.endmsg = 'Args corrupted'\n",
        "            return False\n",
        "        self.from_path = content[0]\n",
        "        self.to_path = content[1]\n",
        "        return True\n",
        "\n",
        "    def check(self, path):\n",
        "        result_folder, result_file = self.get_result_path(path, self.from_path, self.to_path)\n",
        "        return os.path.isfile(result_file)\n",
        "\n",
        "    def transfer(self, path):\n",
        "        result_folder, result_file = self.get_result_path(path, self.from_path, self.to_path)\n",
        "        src_path = os.path.join(self.from_path, path)\n",
        "        get_ipython().system_raw(f'rsync -u \"{src_path}\" \"{result_folder}\"')\n"
      ],
      "execution_count": null,
      "outputs": []
    }
  ]
}